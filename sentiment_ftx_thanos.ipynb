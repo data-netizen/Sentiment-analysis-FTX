{
  "nbformat": 4,
  "nbformat_minor": 0,
  "metadata": {
    "colab": {
      "provenance": []
    },
    "kernelspec": {
      "name": "python3",
      "display_name": "Python 3"
    },
    "language_info": {
      "name": "python"
    }
  },
  "cells": [
    {
      "cell_type": "code",
      "execution_count": 1,
      "metadata": {
        "colab": {
          "base_uri": "https://localhost:8080/"
        },
        "id": "a2gdiIXIeNsY",
        "outputId": "2ccb3d74-3138-4b9a-909a-9c5b9df22a87"
      },
      "outputs": [
        {
          "output_type": "stream",
          "name": "stdout",
          "text": [
            "Looking in indexes: https://pypi.org/simple, https://us-python.pkg.dev/colab-wheels/public/simple/\n",
            "Collecting kneed\n",
            "  Downloading kneed-0.8.2-py3-none-any.whl (10 kB)\n",
            "Requirement already satisfied: scipy>=1.0.0 in /usr/local/lib/python3.8/dist-packages (from kneed) (1.7.3)\n",
            "Requirement already satisfied: numpy>=1.14.2 in /usr/local/lib/python3.8/dist-packages (from kneed) (1.21.6)\n",
            "Installing collected packages: kneed\n",
            "Successfully installed kneed-0.8.2\n"
          ]
        },
        {
          "output_type": "stream",
          "name": "stderr",
          "text": [
            "[nltk_data] Downloading package stopwords to /root/nltk_data...\n",
            "[nltk_data]   Unzipping corpora/stopwords.zip.\n",
            "[nltk_data] Downloading package wordnet to /root/nltk_data...\n",
            "[nltk_data] Downloading package omw-1.4 to /root/nltk_data...\n",
            "/usr/local/lib/python3.8/dist-packages/torch/cuda/__init__.py:497: UserWarning: Can't initialize NVML\n",
            "  warnings.warn(\"Can't initialize NVML\")\n"
          ]
        }
      ],
      "source": [
        "# stats\n",
        "!pip install kneed\n",
        "import pandas as pd\n",
        "import numpy as np\n",
        "import sklearn\n",
        "from sklearn.feature_extraction.text import TfidfVectorizer, CountVectorizer\n",
        "from sklearn.model_selection import train_test_split\n",
        "from sklearn.cluster import KMeans\n",
        "from sklearn.linear_model import LogisticRegression\n",
        "from sklearn.metrics import classification_report\n",
        "from sklearn.ensemble import RandomForestClassifier as rf\n",
        "from sklearn import cluster, svm\n",
        "import matplotlib.pyplot as plt\n",
        "from kneed import KneeLocator\n",
        "from tqdm import tqdm\n",
        "\n",
        "\n",
        "# support\n",
        "from collections import Counter\n",
        "from itertools import chain\n",
        "from os.path import exists\n",
        "\n",
        "\n",
        "# text preprocessing\n",
        "import string\n",
        "import re\n",
        "import nltk\n",
        "nltk.download('stopwords')\n",
        "nltk.download('wordnet')\n",
        "nltk.download('omw-1.4')\n",
        "from nltk.corpus import stopwords\n",
        "from nltk.tokenize import word_tokenize\n",
        "from nltk.stem import WordNetLemmatizer\n",
        "lemmatizer = WordNetLemmatizer()\n",
        "\n",
        "import spacy\n",
        "nlp = spacy.load('en_core_web_sm')\n",
        "\n",
        "#Sentiment Analysis\n",
        "from textblob import TextBlob\n",
        "\n",
        "# LDA\n",
        "import gensim\n",
        "import gensim.corpora as corpora\n",
        "from gensim.utils import simple_preprocess\n",
        "from gensim.models import CoherenceModel, LdaModel, LsiModel, HdpModel\n",
        "from gensim import corpora, models\n",
        "from gensim.models import Phrases\n",
        "from gensim.corpora import Dictionary\n",
        "\n",
        "# Visualisation\n",
        "import matplotlib.pyplot as plt\n",
        "import seaborn as sns\n",
        "\n",
        "# Comment this if its run on google colab\n",
        "#path = \"data\\Data Assignment 1 Take Home Exam\\\\\" # path for local running"
      ]
    },
    {
      "cell_type": "code",
      "source": [
        "# Please uncomment this to run the code in google colab\n",
        "from google.colab import drive\n",
        "drive.mount('/content/drive')\n",
        "path = '/content/drive/MyDrive/ADS/Critical Data Mining of Media Culture - Copy/Weeks/Week6/'"
      ],
      "metadata": {
        "id": "KYs5dmLYFOfV",
        "colab": {
          "base_uri": "https://localhost:8080/"
        },
        "outputId": "3686b4c2-f7ef-4dcc-b50b-ed7cf1ce7629"
      },
      "execution_count": 5,
      "outputs": [
        {
          "output_type": "stream",
          "name": "stdout",
          "text": [
            "Drive already mounted at /content/drive; to attempt to forcibly remount, call drive.mount(\"/content/drive\", force_remount=True).\n"
          ]
        }
      ]
    },
    {
      "cell_type": "markdown",
      "source": [
        "# Basic Analysis"
      ],
      "metadata": {
        "id": "UnrGemCJfmti"
      }
    },
    {
      "cell_type": "code",
      "source": [
        "ftx = pd.read_csv(path + 'ftx.csv')\n",
        "ftx.head()"
      ],
      "metadata": {
        "id": "UZI92rZDfgyB",
        "colab": {
          "base_uri": "https://localhost:8080/",
          "height": 565
        },
        "outputId": "9569c872-cdd7-4442-b5cc-23e52f395738"
      },
      "execution_count": 6,
      "outputs": [
        {
          "output_type": "execute_result",
          "data": {
            "text/plain": [
              "             author id   username                 created_at  geo  \\\n",
              "0   925022669732503552  GetStocks  2022-10-30 23:58:36+00:00  NaN   \n",
              "1            190097582  GetStocks  2022-10-30 23:56:41+00:00  NaN   \n",
              "2  1449881932695805959  GetStocks  2022-10-30 23:56:31+00:00  NaN   \n",
              "3   925022669732503552  GetStocks  2022-10-30 23:56:05+00:00  NaN   \n",
              "4   925022669732503552  GetStocks  2022-10-30 23:54:44+00:00  NaN   \n",
              "\n",
              "                    id lang like_count quote_count reply_count retweet_count  \\\n",
              "0  1586870215828246528   en          0           0           0           496   \n",
              "1  1586869731675734019   en          0           0           0             7   \n",
              "2  1586869690668027904   in          0           0           0             0   \n",
              "3  1586869582844858374   en          0           0           0           397   \n",
              "4  1586869242086973440   en          0           0           0           518   \n",
              "\n",
              "                source                                              tweet  \\\n",
              "0  Twitter for Android  RT @VitaInuCoin: $VINU is now listed on @FTX_a...   \n",
              "1         jayeshthakur  RT @riskigy: Cryptocurrency exchange #FTX will...   \n",
              "2              Twitter  🚀 🚀 🚀 $500,050 USDT-PERP LONGED @$1.00 on #FTX...   \n",
              "3  Twitter for Android  RT @ElemontCapital: Which Tier 1 exchange will...   \n",
              "4  Twitter for Android  RT @VitaInuCoin: $VINU is listing on @ftx_app ...   \n",
              "\n",
              "  in_reply_to                                              users followers  \\\n",
              "0         NaN                         ['VitaInuCoin', 'ftx_app']      1334   \n",
              "1         NaN              ['VitaInuCoin', 'ftx_app', 'riskigy']      1334   \n",
              "2         NaN              ['VitaInuCoin', 'ftx_app', 'riskigy']      1334   \n",
              "3         NaN  ['VitaInuCoin', 'ftx_app', 'riskigy', 'Elemont...      1334   \n",
              "4         NaN  ['VitaInuCoin', 'ftx_app', 'riskigy', 'Elemont...      1334   \n",
              "\n",
              "  tweet count  \n",
              "0       15786  \n",
              "1       15786  \n",
              "2       15786  \n",
              "3       15786  \n",
              "4       15786  "
            ],
            "text/html": [
              "\n",
              "  <div id=\"df-d4bdca64-f992-40a3-85cc-22b14a6ab9c2\">\n",
              "    <div class=\"colab-df-container\">\n",
              "      <div>\n",
              "<style scoped>\n",
              "    .dataframe tbody tr th:only-of-type {\n",
              "        vertical-align: middle;\n",
              "    }\n",
              "\n",
              "    .dataframe tbody tr th {\n",
              "        vertical-align: top;\n",
              "    }\n",
              "\n",
              "    .dataframe thead th {\n",
              "        text-align: right;\n",
              "    }\n",
              "</style>\n",
              "<table border=\"1\" class=\"dataframe\">\n",
              "  <thead>\n",
              "    <tr style=\"text-align: right;\">\n",
              "      <th></th>\n",
              "      <th>author id</th>\n",
              "      <th>username</th>\n",
              "      <th>created_at</th>\n",
              "      <th>geo</th>\n",
              "      <th>id</th>\n",
              "      <th>lang</th>\n",
              "      <th>like_count</th>\n",
              "      <th>quote_count</th>\n",
              "      <th>reply_count</th>\n",
              "      <th>retweet_count</th>\n",
              "      <th>source</th>\n",
              "      <th>tweet</th>\n",
              "      <th>in_reply_to</th>\n",
              "      <th>users</th>\n",
              "      <th>followers</th>\n",
              "      <th>tweet count</th>\n",
              "    </tr>\n",
              "  </thead>\n",
              "  <tbody>\n",
              "    <tr>\n",
              "      <th>0</th>\n",
              "      <td>925022669732503552</td>\n",
              "      <td>GetStocks</td>\n",
              "      <td>2022-10-30 23:58:36+00:00</td>\n",
              "      <td>NaN</td>\n",
              "      <td>1586870215828246528</td>\n",
              "      <td>en</td>\n",
              "      <td>0</td>\n",
              "      <td>0</td>\n",
              "      <td>0</td>\n",
              "      <td>496</td>\n",
              "      <td>Twitter for Android</td>\n",
              "      <td>RT @VitaInuCoin: $VINU is now listed on @FTX_a...</td>\n",
              "      <td>NaN</td>\n",
              "      <td>['VitaInuCoin', 'ftx_app']</td>\n",
              "      <td>1334</td>\n",
              "      <td>15786</td>\n",
              "    </tr>\n",
              "    <tr>\n",
              "      <th>1</th>\n",
              "      <td>190097582</td>\n",
              "      <td>GetStocks</td>\n",
              "      <td>2022-10-30 23:56:41+00:00</td>\n",
              "      <td>NaN</td>\n",
              "      <td>1586869731675734019</td>\n",
              "      <td>en</td>\n",
              "      <td>0</td>\n",
              "      <td>0</td>\n",
              "      <td>0</td>\n",
              "      <td>7</td>\n",
              "      <td>jayeshthakur</td>\n",
              "      <td>RT @riskigy: Cryptocurrency exchange #FTX will...</td>\n",
              "      <td>NaN</td>\n",
              "      <td>['VitaInuCoin', 'ftx_app', 'riskigy']</td>\n",
              "      <td>1334</td>\n",
              "      <td>15786</td>\n",
              "    </tr>\n",
              "    <tr>\n",
              "      <th>2</th>\n",
              "      <td>1449881932695805959</td>\n",
              "      <td>GetStocks</td>\n",
              "      <td>2022-10-30 23:56:31+00:00</td>\n",
              "      <td>NaN</td>\n",
              "      <td>1586869690668027904</td>\n",
              "      <td>in</td>\n",
              "      <td>0</td>\n",
              "      <td>0</td>\n",
              "      <td>0</td>\n",
              "      <td>0</td>\n",
              "      <td>Twitter</td>\n",
              "      <td>🚀 🚀 🚀 $500,050 USDT-PERP LONGED @$1.00 on #FTX...</td>\n",
              "      <td>NaN</td>\n",
              "      <td>['VitaInuCoin', 'ftx_app', 'riskigy']</td>\n",
              "      <td>1334</td>\n",
              "      <td>15786</td>\n",
              "    </tr>\n",
              "    <tr>\n",
              "      <th>3</th>\n",
              "      <td>925022669732503552</td>\n",
              "      <td>GetStocks</td>\n",
              "      <td>2022-10-30 23:56:05+00:00</td>\n",
              "      <td>NaN</td>\n",
              "      <td>1586869582844858374</td>\n",
              "      <td>en</td>\n",
              "      <td>0</td>\n",
              "      <td>0</td>\n",
              "      <td>0</td>\n",
              "      <td>397</td>\n",
              "      <td>Twitter for Android</td>\n",
              "      <td>RT @ElemontCapital: Which Tier 1 exchange will...</td>\n",
              "      <td>NaN</td>\n",
              "      <td>['VitaInuCoin', 'ftx_app', 'riskigy', 'Elemont...</td>\n",
              "      <td>1334</td>\n",
              "      <td>15786</td>\n",
              "    </tr>\n",
              "    <tr>\n",
              "      <th>4</th>\n",
              "      <td>925022669732503552</td>\n",
              "      <td>GetStocks</td>\n",
              "      <td>2022-10-30 23:54:44+00:00</td>\n",
              "      <td>NaN</td>\n",
              "      <td>1586869242086973440</td>\n",
              "      <td>en</td>\n",
              "      <td>0</td>\n",
              "      <td>0</td>\n",
              "      <td>0</td>\n",
              "      <td>518</td>\n",
              "      <td>Twitter for Android</td>\n",
              "      <td>RT @VitaInuCoin: $VINU is listing on @ftx_app ...</td>\n",
              "      <td>NaN</td>\n",
              "      <td>['VitaInuCoin', 'ftx_app', 'riskigy', 'Elemont...</td>\n",
              "      <td>1334</td>\n",
              "      <td>15786</td>\n",
              "    </tr>\n",
              "  </tbody>\n",
              "</table>\n",
              "</div>\n",
              "      <button class=\"colab-df-convert\" onclick=\"convertToInteractive('df-d4bdca64-f992-40a3-85cc-22b14a6ab9c2')\"\n",
              "              title=\"Convert this dataframe to an interactive table.\"\n",
              "              style=\"display:none;\">\n",
              "        \n",
              "  <svg xmlns=\"http://www.w3.org/2000/svg\" height=\"24px\"viewBox=\"0 0 24 24\"\n",
              "       width=\"24px\">\n",
              "    <path d=\"M0 0h24v24H0V0z\" fill=\"none\"/>\n",
              "    <path d=\"M18.56 5.44l.94 2.06.94-2.06 2.06-.94-2.06-.94-.94-2.06-.94 2.06-2.06.94zm-11 1L8.5 8.5l.94-2.06 2.06-.94-2.06-.94L8.5 2.5l-.94 2.06-2.06.94zm10 10l.94 2.06.94-2.06 2.06-.94-2.06-.94-.94-2.06-.94 2.06-2.06.94z\"/><path d=\"M17.41 7.96l-1.37-1.37c-.4-.4-.92-.59-1.43-.59-.52 0-1.04.2-1.43.59L10.3 9.45l-7.72 7.72c-.78.78-.78 2.05 0 2.83L4 21.41c.39.39.9.59 1.41.59.51 0 1.02-.2 1.41-.59l7.78-7.78 2.81-2.81c.8-.78.8-2.07 0-2.86zM5.41 20L4 18.59l7.72-7.72 1.47 1.35L5.41 20z\"/>\n",
              "  </svg>\n",
              "      </button>\n",
              "      \n",
              "  <style>\n",
              "    .colab-df-container {\n",
              "      display:flex;\n",
              "      flex-wrap:wrap;\n",
              "      gap: 12px;\n",
              "    }\n",
              "\n",
              "    .colab-df-convert {\n",
              "      background-color: #E8F0FE;\n",
              "      border: none;\n",
              "      border-radius: 50%;\n",
              "      cursor: pointer;\n",
              "      display: none;\n",
              "      fill: #1967D2;\n",
              "      height: 32px;\n",
              "      padding: 0 0 0 0;\n",
              "      width: 32px;\n",
              "    }\n",
              "\n",
              "    .colab-df-convert:hover {\n",
              "      background-color: #E2EBFA;\n",
              "      box-shadow: 0px 1px 2px rgba(60, 64, 67, 0.3), 0px 1px 3px 1px rgba(60, 64, 67, 0.15);\n",
              "      fill: #174EA6;\n",
              "    }\n",
              "\n",
              "    [theme=dark] .colab-df-convert {\n",
              "      background-color: #3B4455;\n",
              "      fill: #D2E3FC;\n",
              "    }\n",
              "\n",
              "    [theme=dark] .colab-df-convert:hover {\n",
              "      background-color: #434B5C;\n",
              "      box-shadow: 0px 1px 3px 1px rgba(0, 0, 0, 0.15);\n",
              "      filter: drop-shadow(0px 1px 2px rgba(0, 0, 0, 0.3));\n",
              "      fill: #FFFFFF;\n",
              "    }\n",
              "  </style>\n",
              "\n",
              "      <script>\n",
              "        const buttonEl =\n",
              "          document.querySelector('#df-d4bdca64-f992-40a3-85cc-22b14a6ab9c2 button.colab-df-convert');\n",
              "        buttonEl.style.display =\n",
              "          google.colab.kernel.accessAllowed ? 'block' : 'none';\n",
              "\n",
              "        async function convertToInteractive(key) {\n",
              "          const element = document.querySelector('#df-d4bdca64-f992-40a3-85cc-22b14a6ab9c2');\n",
              "          const dataTable =\n",
              "            await google.colab.kernel.invokeFunction('convertToInteractive',\n",
              "                                                     [key], {});\n",
              "          if (!dataTable) return;\n",
              "\n",
              "          const docLinkHtml = 'Like what you see? Visit the ' +\n",
              "            '<a target=\"_blank\" href=https://colab.research.google.com/notebooks/data_table.ipynb>data table notebook</a>'\n",
              "            + ' to learn more about interactive tables.';\n",
              "          element.innerHTML = '';\n",
              "          dataTable['output_type'] = 'display_data';\n",
              "          await google.colab.output.renderOutput(dataTable, element);\n",
              "          const docLink = document.createElement('div');\n",
              "          docLink.innerHTML = docLinkHtml;\n",
              "          element.appendChild(docLink);\n",
              "        }\n",
              "      </script>\n",
              "    </div>\n",
              "  </div>\n",
              "  "
            ]
          },
          "metadata": {},
          "execution_count": 6
        }
      ]
    },
    {
      "cell_type": "code",
      "source": [
        "# Only keep English tweets\n",
        "print(ftx['lang'].value_counts())\n",
        "ftx = ftx.loc[ftx['lang']=='en']"
      ],
      "metadata": {
        "colab": {
          "base_uri": "https://localhost:8080/"
        },
        "id": "HBnINmWXflad",
        "outputId": "fcc9b07f-6426-44ba-be3a-20de4836430f"
      },
      "execution_count": 7,
      "outputs": [
        {
          "output_type": "stream",
          "name": "stdout",
          "text": [
            "en      22821\n",
            "tr       1753\n",
            "es        804\n",
            "fr        577\n",
            "cy        409\n",
            "qme       372\n",
            "de        305\n",
            "und       269\n",
            "zh        214\n",
            "ja        182\n",
            "fi        154\n",
            "ht        147\n",
            "it        147\n",
            "in        112\n",
            "no        110\n",
            "ar        108\n",
            "et         91\n",
            "qht        85\n",
            "tl         65\n",
            "pl         55\n",
            "pt         47\n",
            "nl         45\n",
            "vi         44\n",
            "hu         43\n",
            "sv         41\n",
            "ro         39\n",
            "ca         37\n",
            "eu         34\n",
            "da         32\n",
            "is         24\n",
            "ru         20\n",
            "ko         16\n",
            "th         14\n",
            "fa         13\n",
            "lt         13\n",
            "qst         4\n",
            "hi          3\n",
            "uk          3\n",
            "el          3\n",
            "lang        2\n",
            "bg          2\n",
            "cs          2\n",
            "ur          1\n",
            "Name: lang, dtype: int64\n"
          ]
        }
      ]
    },
    {
      "cell_type": "code",
      "source": [
        "# The data is only tweets from 29th of october till the 6th of december\n",
        "print(ftx.created_at.min(), ftx.created_at.max())"
      ],
      "metadata": {
        "colab": {
          "base_uri": "https://localhost:8080/"
        },
        "id": "v-xha93THic3",
        "outputId": "c3afaf0e-1c4e-49f7-d5bf-e6609ad8e0db"
      },
      "execution_count": null,
      "outputs": [
        {
          "output_type": "stream",
          "name": "stdout",
          "text": [
            "2022-10-29 12:47:04+00:00 2022-12-06 23:59:53+00:00\n"
          ]
        }
      ]
    },
    {
      "cell_type": "code",
      "source": [
        "len(ftx)"
      ],
      "metadata": {
        "colab": {
          "base_uri": "https://localhost:8080/"
        },
        "id": "Ye5ujBg4jn_o",
        "outputId": "71e4fe61-67d5-4d70-d9a1-b80e67322040"
      },
      "execution_count": null,
      "outputs": [
        {
          "output_type": "execute_result",
          "data": {
            "text/plain": [
              "22821"
            ]
          },
          "metadata": {},
          "execution_count": 7
        }
      ]
    },
    {
      "cell_type": "markdown",
      "source": [
        "# Functions for preprocessing"
      ],
      "metadata": {
        "id": "Bbuk6S6xhBtG"
      }
    },
    {
      "cell_type": "code",
      "source": [
        "# basic preprocessing for every text mining task\n",
        "# I will use this function most of the time cause this is the bare minimum for any text mining task. It makes the text consistent and clean\n",
        "# I won't use this function in some cases since digits could be important\n",
        "def preprocess(to_clean):\n",
        "    to_clean = to_clean.astype(str)\n",
        "    to_clean = to_clean.str.lower() #lowercase\n",
        "    to_clean = to_clean.str.translate(str.maketrans(' ', ' ', string.digits)) # remove digits\n",
        "    to_clean = to_clean.str.translate(str.maketrans(' ', ' ', string.punctuation)) # remove punctuation\n",
        "    to_clean = to_clean.str.strip() # remove whitespace\n",
        "    to_clean = [re.sub(r'([^\\w\\s]|_|@|;)','', str(x)) for x in to_clean] # remove symbols\n",
        "    to_clean = [re.sub(r'http\\S+','', str(x)) for x in to_clean] # #remove URLs\n",
        "    return(to_clean)"
      ],
      "metadata": {
        "id": "kE7snLidhBLK"
      },
      "execution_count": 8,
      "outputs": []
    },
    {
      "cell_type": "code",
      "source": [
        "# function to include certain pos taggings\n",
        "def include_features(x, tags=['VERB', 'PROPN', 'NOUN', 'ADJ']):\n",
        "    include_features = tags #see the table below for explaination of tags, try with different combinations\n",
        "    text = ' '.join([ent.text for ent in x if ent.pos_ in include_features])\n",
        "    return text"
      ],
      "metadata": {
        "id": "KlOa7aXLhPQJ"
      },
      "execution_count": 26,
      "outputs": []
    },
    {
      "cell_type": "markdown",
      "source": [
        "# Functions for analysis"
      ],
      "metadata": {
        "id": "6x_DaYJondYX"
      }
    },
    {
      "cell_type": "code",
      "source": [
        "def top(df_top, col):\n",
        "    # first I remove every post without any adjectives than I make a list of all the adjectives, however this is a nested list since one post can have more than 1 adjective\n",
        "    nested_list = list(df_top.loc[df_top[col] != '', col].apply(lambda x: x.split()))\n",
        "    # to unnest the list I use chain from itertools and make it a list again\n",
        "    # After that I use Counter from collections which makes a dictionary that counts the occurance of every unique adjective than I sort this dictionary by the keys and select the top 20\n",
        "    top = sorted(Counter(list(chain(*nested_list))).items(), key=lambda x:x[1], reverse=True)\n",
        "\n",
        "    #the 20 most used adjectives in comments per show, code below:\n",
        "    if top == []:\n",
        "        top = ['empty this year']\n",
        "    return(top)"
      ],
      "metadata": {
        "id": "L2cYKr4VrQnc"
      },
      "execution_count": 27,
      "outputs": []
    },
    {
      "cell_type": "code",
      "source": [
        "# knee locater\n",
        "def knee_loc(tf_idf, K=range(1,20)):\n",
        "    OMP_NUM_THREADS=8\n",
        "    inertia = []\n",
        "    sse = {}\n",
        "\n",
        "    for k in tqdm(K): #calculate sse per cluster thats in range K\n",
        "        kmeans = KMeans(n_clusters=k, random_state=42)\n",
        "        kmeans.fit(tf_idf)\n",
        "        sse[k] = kmeans.inertia_ # save sse for visualisation\n",
        "        inertia.append(kmeans.inertia_) # save sse for suggested amount of topics (knee/elbow)\n",
        "\n",
        "    # Plot SSE and compute the amount of clusters    \n",
        "    plt.title('knee plot for K selection')\n",
        "    plt.xlabel('k')\n",
        "    plt.ylabel('SSE')\n",
        "    sns.pointplot(x=list(sse.keys()),\n",
        "                    y=list(sse.values()))\n",
        "    plt.show()\n",
        "\n",
        "    kn = KneeLocator(K, inertia, curve='convex', direction='decreasing')\n",
        "    print('knee =', kn.knee)\n",
        "    return kn"
      ],
      "metadata": {
        "id": "jwhamMkgncwv"
      },
      "execution_count": 14,
      "outputs": []
    },
    {
      "cell_type": "code",
      "source": [
        "# use kn.knee clusters and assign the centers to the documents\n",
        "# Top words per cluster (15, adjust as needed)\n",
        "def kmeans_topics(tf_idf, k, n_topics=15):\n",
        "    k_means = KMeans(n_clusters=k, random_state=42)\n",
        "    k_means.fit(tf_idf)\n",
        "    order_centroids = k_means.cluster_centers_.argsort()[:, ::-1]\n",
        "    terms = vectorizer.get_feature_names_out()\n",
        "    dict = []\n",
        "    cluster_size = sorted(Counter(k_means.labels_).items())\n",
        "    for i in tqdm(range(k)):\n",
        "        print(cluster_size[i], sep='', end=','),\n",
        "        for ind in order_centroids[i, :n_topics]: # 15 words per topic\n",
        "            print(terms[ind], sep='', end=',')\n",
        "        print('')\n",
        "    return k_means"
      ],
      "metadata": {
        "id": "AOVVEw--ngGC"
      },
      "execution_count": null,
      "outputs": []
    },
    {
      "cell_type": "code",
      "source": [
        "# With this function I can extract some tweets from the given model and the predicted topic\n",
        "def tweets(df_tweet, model):\n",
        "    for i in range(0,model.labels_.max()+1): # for every topic give me some tweets\n",
        "        print('Topic', int(i)+1, '\\n', df_tweet.loc[model.labels_==i, 'tweet'].sample(frac=1).values[:3]) # topic number + 3 random tweets from that topic"
      ],
      "metadata": {
        "id": "dpDw0SuFnkdm"
      },
      "execution_count": null,
      "outputs": []
    },
    {
      "cell_type": "code",
      "source": [
        "# answer to question 2.2 using Topic modelling\n",
        "# https://towardsdatascience.com/topic-modeling-and-latent-dirichlet-allocation-in-python-9bf156893c24\n",
        "def topics(text, n_topics, tf_idf=False):\n",
        "    processed_docs = text.apply(lambda x:word_tokenize(x)) # tokenize\n",
        "    dictionary = gensim.corpora.Dictionary(processed_docs) # make dictionary for all the words (words converted to ids)\n",
        "    dictionary.filter_extremes(no_below=15, no_above=0.5, keep_n=None) # pruning dictionary to reduce noise\n",
        "    bow_corpus = [dictionary.doc2bow(doc) for doc in processed_docs] # For each document we create a dictionary reporting how many words and how many times those words appear\n",
        "    tfidf = models.TfidfModel(bow_corpus)\n",
        "    corpus_tfidf = tfidf[bow_corpus]\n",
        "    if tf_idf==False:\n",
        "        # lda model using bag of words\n",
        "        lda_model = gensim.models.LdaMulticore(bow_corpus, num_topics=n_topics, id2word=dictionary, passes=2, workers=2)\n",
        "        print('bow topics:')\n",
        "        for idx, topic in lda_model.print_topics(-1):\n",
        "            print('Topic: {} Words: {}'.format(idx, topic))\n",
        "    else:\n",
        "        # lda model using tfidf\n",
        "        print('tfidf_topics:')\n",
        "        lda_model_tfidf = gensim.models.LdaMulticore(corpus_tfidf, num_topics=n_topics, id2word=dictionary, passes=2, workers=4)\n",
        "        for idx, topic in lda_model_tfidf.print_topics(-1):\n",
        "            print('Topic: {} Words: {}'.format(idx, topic))\n",
        "        "
      ],
      "metadata": {
        "id": "OJd3MxdlnvFr"
      },
      "execution_count": null,
      "outputs": []
    },
    {
      "cell_type": "markdown",
      "source": [
        "# Preprocessing"
      ],
      "metadata": {
        "id": "hZEVDJMihMka"
      }
    },
    {
      "cell_type": "code",
      "source": [
        "if not exists(path+'clean_tweets.csv'): # check if preprocessed file already exists.\n",
        "\n",
        "    # Basic preprocessing\n",
        "    df_ftx = ftx.copy()\n",
        "    df_ftx['clean_text'] = preprocess(df_ftx['tweet'])\n",
        "    df_ftx['tokens'] = df_ftx['clean_text'].apply(lambda x:nlp(x))\n",
        "    df_ftx['clean_text'] = df_ftx['tokens'].apply(lambda x: include_features(x)) # keep certain POS tags\n",
        "\n",
        "    # remove stopwords\n",
        "    stop_words = stopwords.words('english')\n",
        "    new_stopwords = ['rt', 'ヅ'] # in twitter rt means retweet which is not usefull informatie for our purposes\n",
        "    stop_words.extend(new_stopwords)\n",
        "    df_ftx['clean_text'] = df_ftx['clean_text'].apply(lambda x: ' '.join([word for word in x.split() if word not in (stop_words)]))\n",
        "\n",
        "    # lemmatization and pass string back\n",
        "    df_ftx['clean_text_lemma'] = [lemmatizer.lemmatize(w) for w in df_ftx['clean_text'].astype(str)]  \n",
        "    df_ftx['clean_text'].dropna(inplace=True) # drop empty rows\n",
        "    df_ftx['clean_text_lemma'].dropna(inplace=True)\n",
        "    df_ftx.to_csv(path+'clean_tweets.csv') # save as csv\n",
        "    \n",
        "else: # if file exists than load it from folder\n",
        "    df_ftx = pd.read_csv(path+'clean_tweets.csv', index_col=0)"
      ],
      "metadata": {
        "id": "6HmB7QzjhLsV"
      },
      "execution_count": 28,
      "outputs": []
    },
    {
      "cell_type": "code",
      "source": [
        " print(df_ftx.shape)\n",
        " df_ftx.head()"
      ],
      "metadata": {
        "colab": {
          "base_uri": "https://localhost:8080/",
          "height": 617
        },
        "id": "lA3jVU8to_jH",
        "outputId": "1a739b54-d658-49bf-a0ec-31023f00953e"
      },
      "execution_count": 29,
      "outputs": [
        {
          "output_type": "stream",
          "name": "stdout",
          "text": [
            "(22821, 19)\n"
          ]
        },
        {
          "output_type": "execute_result",
          "data": {
            "text/plain": [
              "             author id   username                 created_at  geo  \\\n",
              "0   925022669732503552  GetStocks  2022-10-30 23:58:36+00:00  NaN   \n",
              "1            190097582  GetStocks  2022-10-30 23:56:41+00:00  NaN   \n",
              "3   925022669732503552  GetStocks  2022-10-30 23:56:05+00:00  NaN   \n",
              "4   925022669732503552  GetStocks  2022-10-30 23:54:44+00:00  NaN   \n",
              "5  1276288791821647880  GetStocks  2022-10-30 23:54:36+00:00  NaN   \n",
              "\n",
              "                    id lang  like_count  quote_count  reply_count  \\\n",
              "0  1586870215828246528   en           0            0            0   \n",
              "1  1586869731675734019   en           0            0            0   \n",
              "3  1586869582844858374   en           0            0            0   \n",
              "4  1586869242086973440   en           0            0            0   \n",
              "5  1586869209858035713   en           0            0            0   \n",
              "\n",
              "   retweet_count               source  \\\n",
              "0            496  Twitter for Android   \n",
              "1              7         jayeshthakur   \n",
              "3            397  Twitter for Android   \n",
              "4            518  Twitter for Android   \n",
              "5              1   Twitter for iPhone   \n",
              "\n",
              "                                               tweet  in_reply_to  \\\n",
              "0  RT @VitaInuCoin: $VINU is now listed on @FTX_a...          NaN   \n",
              "1  RT @riskigy: Cryptocurrency exchange #FTX will...          NaN   \n",
              "3  RT @ElemontCapital: Which Tier 1 exchange will...          NaN   \n",
              "4  RT @VitaInuCoin: $VINU is listing on @ftx_app ...          NaN   \n",
              "5  RT @Final_fx: Huge and Blessed Week Ahead❤️✅🦅 ...          NaN   \n",
              "\n",
              "                                               users  followers  tweet count  \\\n",
              "0                         ['VitaInuCoin', 'ftx_app']       1334        15786   \n",
              "1              ['VitaInuCoin', 'ftx_app', 'riskigy']       1334        15786   \n",
              "3  ['VitaInuCoin', 'ftx_app', 'riskigy', 'Elemont...       1334        15786   \n",
              "4  ['VitaInuCoin', 'ftx_app', 'riskigy', 'Elemont...       1334        15786   \n",
              "5  ['VitaInuCoin', 'ftx_app', 'riskigy', 'Elemont...       1334        15786   \n",
              "\n",
              "                                          clean_text  \\\n",
              "0  vitainucoin vinu listed ftxapp blockfolio vinu...   \n",
              "1  riskigy cryptocurrency exchange ftx provide co...   \n",
              "3  elemontcapital tier exchange vinu listing next...   \n",
              "4  vitainucoin vinu listing ftxapp details come v...   \n",
              "5          finalfx huge blessed week vvl nft btc ftx   \n",
              "\n",
              "                                              tokens  \\\n",
              "0  rt vitainucoin vinu is now listed on ftxapp bl...   \n",
              "1  rt riskigy cryptocurrency exchange ftx will pr...   \n",
              "3  rt elemontcapital which tier  exchange will vi...   \n",
              "4  rt vitainucoin vinu is listing on ftxapp   mor...   \n",
              "5  rt finalfx huge and blessed week ahead  vvl nf...   \n",
              "\n",
              "                                    clean_text_lemma  \n",
              "0  vitainucoin vinu listed ftxapp blockfolio vinu...  \n",
              "1  riskigy cryptocurrency exchange ftx provide co...  \n",
              "3  elemontcapital tier exchange vinu listing next...  \n",
              "4  vitainucoin vinu listing ftxapp details come v...  \n",
              "5          finalfx huge blessed week vvl nft btc ftx  "
            ],
            "text/html": [
              "\n",
              "  <div id=\"df-72b4a2e6-a998-49e6-9db0-83aa1c80e673\">\n",
              "    <div class=\"colab-df-container\">\n",
              "      <div>\n",
              "<style scoped>\n",
              "    .dataframe tbody tr th:only-of-type {\n",
              "        vertical-align: middle;\n",
              "    }\n",
              "\n",
              "    .dataframe tbody tr th {\n",
              "        vertical-align: top;\n",
              "    }\n",
              "\n",
              "    .dataframe thead th {\n",
              "        text-align: right;\n",
              "    }\n",
              "</style>\n",
              "<table border=\"1\" class=\"dataframe\">\n",
              "  <thead>\n",
              "    <tr style=\"text-align: right;\">\n",
              "      <th></th>\n",
              "      <th>author id</th>\n",
              "      <th>username</th>\n",
              "      <th>created_at</th>\n",
              "      <th>geo</th>\n",
              "      <th>id</th>\n",
              "      <th>lang</th>\n",
              "      <th>like_count</th>\n",
              "      <th>quote_count</th>\n",
              "      <th>reply_count</th>\n",
              "      <th>retweet_count</th>\n",
              "      <th>source</th>\n",
              "      <th>tweet</th>\n",
              "      <th>in_reply_to</th>\n",
              "      <th>users</th>\n",
              "      <th>followers</th>\n",
              "      <th>tweet count</th>\n",
              "      <th>clean_text</th>\n",
              "      <th>tokens</th>\n",
              "      <th>clean_text_lemma</th>\n",
              "    </tr>\n",
              "  </thead>\n",
              "  <tbody>\n",
              "    <tr>\n",
              "      <th>0</th>\n",
              "      <td>925022669732503552</td>\n",
              "      <td>GetStocks</td>\n",
              "      <td>2022-10-30 23:58:36+00:00</td>\n",
              "      <td>NaN</td>\n",
              "      <td>1586870215828246528</td>\n",
              "      <td>en</td>\n",
              "      <td>0</td>\n",
              "      <td>0</td>\n",
              "      <td>0</td>\n",
              "      <td>496</td>\n",
              "      <td>Twitter for Android</td>\n",
              "      <td>RT @VitaInuCoin: $VINU is now listed on @FTX_a...</td>\n",
              "      <td>NaN</td>\n",
              "      <td>['VitaInuCoin', 'ftx_app']</td>\n",
              "      <td>1334</td>\n",
              "      <td>15786</td>\n",
              "      <td>vitainucoin vinu listed ftxapp blockfolio vinu...</td>\n",
              "      <td>rt vitainucoin vinu is now listed on ftxapp bl...</td>\n",
              "      <td>vitainucoin vinu listed ftxapp blockfolio vinu...</td>\n",
              "    </tr>\n",
              "    <tr>\n",
              "      <th>1</th>\n",
              "      <td>190097582</td>\n",
              "      <td>GetStocks</td>\n",
              "      <td>2022-10-30 23:56:41+00:00</td>\n",
              "      <td>NaN</td>\n",
              "      <td>1586869731675734019</td>\n",
              "      <td>en</td>\n",
              "      <td>0</td>\n",
              "      <td>0</td>\n",
              "      <td>0</td>\n",
              "      <td>7</td>\n",
              "      <td>jayeshthakur</td>\n",
              "      <td>RT @riskigy: Cryptocurrency exchange #FTX will...</td>\n",
              "      <td>NaN</td>\n",
              "      <td>['VitaInuCoin', 'ftx_app', 'riskigy']</td>\n",
              "      <td>1334</td>\n",
              "      <td>15786</td>\n",
              "      <td>riskigy cryptocurrency exchange ftx provide co...</td>\n",
              "      <td>rt riskigy cryptocurrency exchange ftx will pr...</td>\n",
              "      <td>riskigy cryptocurrency exchange ftx provide co...</td>\n",
              "    </tr>\n",
              "    <tr>\n",
              "      <th>3</th>\n",
              "      <td>925022669732503552</td>\n",
              "      <td>GetStocks</td>\n",
              "      <td>2022-10-30 23:56:05+00:00</td>\n",
              "      <td>NaN</td>\n",
              "      <td>1586869582844858374</td>\n",
              "      <td>en</td>\n",
              "      <td>0</td>\n",
              "      <td>0</td>\n",
              "      <td>0</td>\n",
              "      <td>397</td>\n",
              "      <td>Twitter for Android</td>\n",
              "      <td>RT @ElemontCapital: Which Tier 1 exchange will...</td>\n",
              "      <td>NaN</td>\n",
              "      <td>['VitaInuCoin', 'ftx_app', 'riskigy', 'Elemont...</td>\n",
              "      <td>1334</td>\n",
              "      <td>15786</td>\n",
              "      <td>elemontcapital tier exchange vinu listing next...</td>\n",
              "      <td>rt elemontcapital which tier  exchange will vi...</td>\n",
              "      <td>elemontcapital tier exchange vinu listing next...</td>\n",
              "    </tr>\n",
              "    <tr>\n",
              "      <th>4</th>\n",
              "      <td>925022669732503552</td>\n",
              "      <td>GetStocks</td>\n",
              "      <td>2022-10-30 23:54:44+00:00</td>\n",
              "      <td>NaN</td>\n",
              "      <td>1586869242086973440</td>\n",
              "      <td>en</td>\n",
              "      <td>0</td>\n",
              "      <td>0</td>\n",
              "      <td>0</td>\n",
              "      <td>518</td>\n",
              "      <td>Twitter for Android</td>\n",
              "      <td>RT @VitaInuCoin: $VINU is listing on @ftx_app ...</td>\n",
              "      <td>NaN</td>\n",
              "      <td>['VitaInuCoin', 'ftx_app', 'riskigy', 'Elemont...</td>\n",
              "      <td>1334</td>\n",
              "      <td>15786</td>\n",
              "      <td>vitainucoin vinu listing ftxapp details come v...</td>\n",
              "      <td>rt vitainucoin vinu is listing on ftxapp   mor...</td>\n",
              "      <td>vitainucoin vinu listing ftxapp details come v...</td>\n",
              "    </tr>\n",
              "    <tr>\n",
              "      <th>5</th>\n",
              "      <td>1276288791821647880</td>\n",
              "      <td>GetStocks</td>\n",
              "      <td>2022-10-30 23:54:36+00:00</td>\n",
              "      <td>NaN</td>\n",
              "      <td>1586869209858035713</td>\n",
              "      <td>en</td>\n",
              "      <td>0</td>\n",
              "      <td>0</td>\n",
              "      <td>0</td>\n",
              "      <td>1</td>\n",
              "      <td>Twitter for iPhone</td>\n",
              "      <td>RT @Final_fx: Huge and Blessed Week Ahead❤️✅🦅 ...</td>\n",
              "      <td>NaN</td>\n",
              "      <td>['VitaInuCoin', 'ftx_app', 'riskigy', 'Elemont...</td>\n",
              "      <td>1334</td>\n",
              "      <td>15786</td>\n",
              "      <td>finalfx huge blessed week vvl nft btc ftx</td>\n",
              "      <td>rt finalfx huge and blessed week ahead  vvl nf...</td>\n",
              "      <td>finalfx huge blessed week vvl nft btc ftx</td>\n",
              "    </tr>\n",
              "  </tbody>\n",
              "</table>\n",
              "</div>\n",
              "      <button class=\"colab-df-convert\" onclick=\"convertToInteractive('df-72b4a2e6-a998-49e6-9db0-83aa1c80e673')\"\n",
              "              title=\"Convert this dataframe to an interactive table.\"\n",
              "              style=\"display:none;\">\n",
              "        \n",
              "  <svg xmlns=\"http://www.w3.org/2000/svg\" height=\"24px\"viewBox=\"0 0 24 24\"\n",
              "       width=\"24px\">\n",
              "    <path d=\"M0 0h24v24H0V0z\" fill=\"none\"/>\n",
              "    <path d=\"M18.56 5.44l.94 2.06.94-2.06 2.06-.94-2.06-.94-.94-2.06-.94 2.06-2.06.94zm-11 1L8.5 8.5l.94-2.06 2.06-.94-2.06-.94L8.5 2.5l-.94 2.06-2.06.94zm10 10l.94 2.06.94-2.06 2.06-.94-2.06-.94-.94-2.06-.94 2.06-2.06.94z\"/><path d=\"M17.41 7.96l-1.37-1.37c-.4-.4-.92-.59-1.43-.59-.52 0-1.04.2-1.43.59L10.3 9.45l-7.72 7.72c-.78.78-.78 2.05 0 2.83L4 21.41c.39.39.9.59 1.41.59.51 0 1.02-.2 1.41-.59l7.78-7.78 2.81-2.81c.8-.78.8-2.07 0-2.86zM5.41 20L4 18.59l7.72-7.72 1.47 1.35L5.41 20z\"/>\n",
              "  </svg>\n",
              "      </button>\n",
              "      \n",
              "  <style>\n",
              "    .colab-df-container {\n",
              "      display:flex;\n",
              "      flex-wrap:wrap;\n",
              "      gap: 12px;\n",
              "    }\n",
              "\n",
              "    .colab-df-convert {\n",
              "      background-color: #E8F0FE;\n",
              "      border: none;\n",
              "      border-radius: 50%;\n",
              "      cursor: pointer;\n",
              "      display: none;\n",
              "      fill: #1967D2;\n",
              "      height: 32px;\n",
              "      padding: 0 0 0 0;\n",
              "      width: 32px;\n",
              "    }\n",
              "\n",
              "    .colab-df-convert:hover {\n",
              "      background-color: #E2EBFA;\n",
              "      box-shadow: 0px 1px 2px rgba(60, 64, 67, 0.3), 0px 1px 3px 1px rgba(60, 64, 67, 0.15);\n",
              "      fill: #174EA6;\n",
              "    }\n",
              "\n",
              "    [theme=dark] .colab-df-convert {\n",
              "      background-color: #3B4455;\n",
              "      fill: #D2E3FC;\n",
              "    }\n",
              "\n",
              "    [theme=dark] .colab-df-convert:hover {\n",
              "      background-color: #434B5C;\n",
              "      box-shadow: 0px 1px 3px 1px rgba(0, 0, 0, 0.15);\n",
              "      filter: drop-shadow(0px 1px 2px rgba(0, 0, 0, 0.3));\n",
              "      fill: #FFFFFF;\n",
              "    }\n",
              "  </style>\n",
              "\n",
              "      <script>\n",
              "        const buttonEl =\n",
              "          document.querySelector('#df-72b4a2e6-a998-49e6-9db0-83aa1c80e673 button.colab-df-convert');\n",
              "        buttonEl.style.display =\n",
              "          google.colab.kernel.accessAllowed ? 'block' : 'none';\n",
              "\n",
              "        async function convertToInteractive(key) {\n",
              "          const element = document.querySelector('#df-72b4a2e6-a998-49e6-9db0-83aa1c80e673');\n",
              "          const dataTable =\n",
              "            await google.colab.kernel.invokeFunction('convertToInteractive',\n",
              "                                                     [key], {});\n",
              "          if (!dataTable) return;\n",
              "\n",
              "          const docLinkHtml = 'Like what you see? Visit the ' +\n",
              "            '<a target=\"_blank\" href=https://colab.research.google.com/notebooks/data_table.ipynb>data table notebook</a>'\n",
              "            + ' to learn more about interactive tables.';\n",
              "          element.innerHTML = '';\n",
              "          dataTable['output_type'] = 'display_data';\n",
              "          await google.colab.output.renderOutput(dataTable, element);\n",
              "          const docLink = document.createElement('div');\n",
              "          docLink.innerHTML = docLinkHtml;\n",
              "          element.appendChild(docLink);\n",
              "        }\n",
              "      </script>\n",
              "    </div>\n",
              "  </div>\n",
              "  "
            ]
          },
          "metadata": {},
          "execution_count": 29
        }
      ]
    },
    {
      "cell_type": "markdown",
      "source": [
        "# Basic analysis"
      ],
      "metadata": {
        "id": "VKbT20rmrftr"
      }
    },
    {
      "cell_type": "code",
      "source": [
        "# top adjectives\n",
        "df_ftx['tokens'] = df_ftx['clean_text'].apply(lambda x:nlp(x))\n",
        "df_ftx['adj'] = df_ftx['tokens'].apply(lambda x: include_features(x, ['ADJ']))\n",
        "top(df_ftx, 'adj')[:10]"
      ],
      "metadata": {
        "colab": {
          "base_uri": "https://localhost:8080/"
        },
        "id": "2yKUY0Lgrc4n",
        "outputId": "fcc3bdb9-82d3-4a13-f1f9-4a2f0d57396f"
      },
      "execution_count": 16,
      "outputs": [
        {
          "output_type": "execute_result",
          "data": {
            "text/plain": [
              "[('top', 1212),\n",
              " ('amazed', 1134),\n",
              " ('bullish', 1016),\n",
              " ('skewed', 996),\n",
              " ('large', 560),\n",
              " ('average', 540),\n",
              " ('big', 321),\n",
              " ('bitcoin', 311),\n",
              " ('next', 303),\n",
              " ('new', 283)]"
            ]
          },
          "metadata": {},
          "execution_count": 16
        }
      ]
    },
    {
      "cell_type": "code",
      "source": [
        "# top nouns\n",
        "df_ftx['noun'] = df_ftx['tokens'].apply(lambda x: include_features(x, ['NOUN']))\n",
        "top(df_ftx, 'noun')[:10]"
      ],
      "metadata": {
        "colab": {
          "base_uri": "https://localhost:8080/"
        },
        "id": "ad5dgeabHISK",
        "outputId": "f11d61b3-6689-4040-832e-ea7657d566f0"
      },
      "execution_count": null,
      "outputs": [
        {
          "output_type": "execute_result",
          "data": {
            "text/plain": [
              "[('ftx', 4088),\n",
              " ('volume', 3114),\n",
              " ('price', 1999),\n",
              " ('ceo', 1920),\n",
              " ('guy', 1872),\n",
              " ('plot', 1843),\n",
              " ('impact', 1758),\n",
              " ('wallet', 1346),\n",
              " ('crypto', 1317),\n",
              " ('minutes', 1298)]"
            ]
          },
          "metadata": {},
          "execution_count": 37
        }
      ]
    },
    {
      "cell_type": "markdown",
      "source": [
        "# Basic topic modelling with kmeans"
      ],
      "metadata": {
        "id": "Rdm2X9XUFJfP"
      }
    },
    {
      "cell_type": "code",
      "source": [
        "#answer to question 2.2 using Kmeans\n",
        "#Vectorization tf_idf - check the documentation for how to use it: https://scikit-learn.org/stable/modules/generated/sklearn.feature_extraction.text.TfidfVectorizer.html\n",
        "vectorizer = TfidfVectorizer(min_df=20, max_df=0.4) #min_df max_df can be float or int I chose these values to reduce the amount of words since these are really big datasets\n",
        "\n",
        "X = vectorizer.fit_transform(df_ftx['clean_text_lemma'])\n",
        "tf_idf_ftx = pd.DataFrame(data = X.toarray(), columns=vectorizer.get_feature_names_out())\n",
        "tf_idf_ftx.head()"
      ],
      "metadata": {
        "colab": {
          "base_uri": "https://localhost:8080/",
          "height": 236
        },
        "id": "b51PExcWFJEx",
        "outputId": "d3a5617b-3fc6-4883-ff2d-5cb2e51eaefa"
      },
      "execution_count": null,
      "outputs": [
        {
          "output_type": "execute_result",
          "data": {
            "text/plain": [
              "   aapl  aax  abc  abigail  able  abnb   ac  accepted  access  according  ...  \\\n",
              "0   0.0  0.0  0.0      0.0   0.0   0.0  0.0       0.0     0.0        0.0  ...   \n",
              "1   0.0  0.0  0.0      0.0   0.0   0.0  0.0       0.0     0.0        0.0  ...   \n",
              "2   0.0  0.0  0.0      0.0   0.0   0.0  0.0       0.0     0.0        0.0  ...   \n",
              "3   0.0  0.0  0.0      0.0   0.0   0.0  0.0       0.0     0.0        0.0  ...   \n",
              "4   0.0  0.0  0.0      0.0   0.0   0.0  0.0       0.0     0.0        0.0  ...   \n",
              "\n",
              "   بعدالما  هيفاءوهبيفيالسعودية  世界杯下注  世界杯买球  世界杯投注  世界杯直播  亚博体育   体彩  开云体育  \\\n",
              "0      0.0                  0.0    0.0    0.0    0.0    0.0   0.0  0.0   0.0   \n",
              "1      0.0                  0.0    0.0    0.0    0.0    0.0   0.0  0.0   0.0   \n",
              "2      0.0                  0.0    0.0    0.0    0.0    0.0   0.0  0.0   0.0   \n",
              "3      0.0                  0.0    0.0    0.0    0.0    0.0   0.0  0.0   0.0   \n",
              "4      0.0                  0.0    0.0    0.0    0.0    0.0   0.0  0.0   0.0   \n",
              "\n",
              "    足球  \n",
              "0  0.0  \n",
              "1  0.0  \n",
              "2  0.0  \n",
              "3  0.0  \n",
              "4  0.0  \n",
              "\n",
              "[5 rows x 1755 columns]"
            ],
            "text/html": [
              "\n",
              "  <div id=\"df-695f0634-fb2b-49e2-ab58-de83588923de\">\n",
              "    <div class=\"colab-df-container\">\n",
              "      <div>\n",
              "<style scoped>\n",
              "    .dataframe tbody tr th:only-of-type {\n",
              "        vertical-align: middle;\n",
              "    }\n",
              "\n",
              "    .dataframe tbody tr th {\n",
              "        vertical-align: top;\n",
              "    }\n",
              "\n",
              "    .dataframe thead th {\n",
              "        text-align: right;\n",
              "    }\n",
              "</style>\n",
              "<table border=\"1\" class=\"dataframe\">\n",
              "  <thead>\n",
              "    <tr style=\"text-align: right;\">\n",
              "      <th></th>\n",
              "      <th>aapl</th>\n",
              "      <th>aax</th>\n",
              "      <th>abc</th>\n",
              "      <th>abigail</th>\n",
              "      <th>able</th>\n",
              "      <th>abnb</th>\n",
              "      <th>ac</th>\n",
              "      <th>accepted</th>\n",
              "      <th>access</th>\n",
              "      <th>according</th>\n",
              "      <th>...</th>\n",
              "      <th>بعدالما</th>\n",
              "      <th>هيفاءوهبيفيالسعودية</th>\n",
              "      <th>世界杯下注</th>\n",
              "      <th>世界杯买球</th>\n",
              "      <th>世界杯投注</th>\n",
              "      <th>世界杯直播</th>\n",
              "      <th>亚博体育</th>\n",
              "      <th>体彩</th>\n",
              "      <th>开云体育</th>\n",
              "      <th>足球</th>\n",
              "    </tr>\n",
              "  </thead>\n",
              "  <tbody>\n",
              "    <tr>\n",
              "      <th>0</th>\n",
              "      <td>0.0</td>\n",
              "      <td>0.0</td>\n",
              "      <td>0.0</td>\n",
              "      <td>0.0</td>\n",
              "      <td>0.0</td>\n",
              "      <td>0.0</td>\n",
              "      <td>0.0</td>\n",
              "      <td>0.0</td>\n",
              "      <td>0.0</td>\n",
              "      <td>0.0</td>\n",
              "      <td>...</td>\n",
              "      <td>0.0</td>\n",
              "      <td>0.0</td>\n",
              "      <td>0.0</td>\n",
              "      <td>0.0</td>\n",
              "      <td>0.0</td>\n",
              "      <td>0.0</td>\n",
              "      <td>0.0</td>\n",
              "      <td>0.0</td>\n",
              "      <td>0.0</td>\n",
              "      <td>0.0</td>\n",
              "    </tr>\n",
              "    <tr>\n",
              "      <th>1</th>\n",
              "      <td>0.0</td>\n",
              "      <td>0.0</td>\n",
              "      <td>0.0</td>\n",
              "      <td>0.0</td>\n",
              "      <td>0.0</td>\n",
              "      <td>0.0</td>\n",
              "      <td>0.0</td>\n",
              "      <td>0.0</td>\n",
              "      <td>0.0</td>\n",
              "      <td>0.0</td>\n",
              "      <td>...</td>\n",
              "      <td>0.0</td>\n",
              "      <td>0.0</td>\n",
              "      <td>0.0</td>\n",
              "      <td>0.0</td>\n",
              "      <td>0.0</td>\n",
              "      <td>0.0</td>\n",
              "      <td>0.0</td>\n",
              "      <td>0.0</td>\n",
              "      <td>0.0</td>\n",
              "      <td>0.0</td>\n",
              "    </tr>\n",
              "    <tr>\n",
              "      <th>2</th>\n",
              "      <td>0.0</td>\n",
              "      <td>0.0</td>\n",
              "      <td>0.0</td>\n",
              "      <td>0.0</td>\n",
              "      <td>0.0</td>\n",
              "      <td>0.0</td>\n",
              "      <td>0.0</td>\n",
              "      <td>0.0</td>\n",
              "      <td>0.0</td>\n",
              "      <td>0.0</td>\n",
              "      <td>...</td>\n",
              "      <td>0.0</td>\n",
              "      <td>0.0</td>\n",
              "      <td>0.0</td>\n",
              "      <td>0.0</td>\n",
              "      <td>0.0</td>\n",
              "      <td>0.0</td>\n",
              "      <td>0.0</td>\n",
              "      <td>0.0</td>\n",
              "      <td>0.0</td>\n",
              "      <td>0.0</td>\n",
              "    </tr>\n",
              "    <tr>\n",
              "      <th>3</th>\n",
              "      <td>0.0</td>\n",
              "      <td>0.0</td>\n",
              "      <td>0.0</td>\n",
              "      <td>0.0</td>\n",
              "      <td>0.0</td>\n",
              "      <td>0.0</td>\n",
              "      <td>0.0</td>\n",
              "      <td>0.0</td>\n",
              "      <td>0.0</td>\n",
              "      <td>0.0</td>\n",
              "      <td>...</td>\n",
              "      <td>0.0</td>\n",
              "      <td>0.0</td>\n",
              "      <td>0.0</td>\n",
              "      <td>0.0</td>\n",
              "      <td>0.0</td>\n",
              "      <td>0.0</td>\n",
              "      <td>0.0</td>\n",
              "      <td>0.0</td>\n",
              "      <td>0.0</td>\n",
              "      <td>0.0</td>\n",
              "    </tr>\n",
              "    <tr>\n",
              "      <th>4</th>\n",
              "      <td>0.0</td>\n",
              "      <td>0.0</td>\n",
              "      <td>0.0</td>\n",
              "      <td>0.0</td>\n",
              "      <td>0.0</td>\n",
              "      <td>0.0</td>\n",
              "      <td>0.0</td>\n",
              "      <td>0.0</td>\n",
              "      <td>0.0</td>\n",
              "      <td>0.0</td>\n",
              "      <td>...</td>\n",
              "      <td>0.0</td>\n",
              "      <td>0.0</td>\n",
              "      <td>0.0</td>\n",
              "      <td>0.0</td>\n",
              "      <td>0.0</td>\n",
              "      <td>0.0</td>\n",
              "      <td>0.0</td>\n",
              "      <td>0.0</td>\n",
              "      <td>0.0</td>\n",
              "      <td>0.0</td>\n",
              "    </tr>\n",
              "  </tbody>\n",
              "</table>\n",
              "<p>5 rows × 1755 columns</p>\n",
              "</div>\n",
              "      <button class=\"colab-df-convert\" onclick=\"convertToInteractive('df-695f0634-fb2b-49e2-ab58-de83588923de')\"\n",
              "              title=\"Convert this dataframe to an interactive table.\"\n",
              "              style=\"display:none;\">\n",
              "        \n",
              "  <svg xmlns=\"http://www.w3.org/2000/svg\" height=\"24px\"viewBox=\"0 0 24 24\"\n",
              "       width=\"24px\">\n",
              "    <path d=\"M0 0h24v24H0V0z\" fill=\"none\"/>\n",
              "    <path d=\"M18.56 5.44l.94 2.06.94-2.06 2.06-.94-2.06-.94-.94-2.06-.94 2.06-2.06.94zm-11 1L8.5 8.5l.94-2.06 2.06-.94-2.06-.94L8.5 2.5l-.94 2.06-2.06.94zm10 10l.94 2.06.94-2.06 2.06-.94-2.06-.94-.94-2.06-.94 2.06-2.06.94z\"/><path d=\"M17.41 7.96l-1.37-1.37c-.4-.4-.92-.59-1.43-.59-.52 0-1.04.2-1.43.59L10.3 9.45l-7.72 7.72c-.78.78-.78 2.05 0 2.83L4 21.41c.39.39.9.59 1.41.59.51 0 1.02-.2 1.41-.59l7.78-7.78 2.81-2.81c.8-.78.8-2.07 0-2.86zM5.41 20L4 18.59l7.72-7.72 1.47 1.35L5.41 20z\"/>\n",
              "  </svg>\n",
              "      </button>\n",
              "      \n",
              "  <style>\n",
              "    .colab-df-container {\n",
              "      display:flex;\n",
              "      flex-wrap:wrap;\n",
              "      gap: 12px;\n",
              "    }\n",
              "\n",
              "    .colab-df-convert {\n",
              "      background-color: #E8F0FE;\n",
              "      border: none;\n",
              "      border-radius: 50%;\n",
              "      cursor: pointer;\n",
              "      display: none;\n",
              "      fill: #1967D2;\n",
              "      height: 32px;\n",
              "      padding: 0 0 0 0;\n",
              "      width: 32px;\n",
              "    }\n",
              "\n",
              "    .colab-df-convert:hover {\n",
              "      background-color: #E2EBFA;\n",
              "      box-shadow: 0px 1px 2px rgba(60, 64, 67, 0.3), 0px 1px 3px 1px rgba(60, 64, 67, 0.15);\n",
              "      fill: #174EA6;\n",
              "    }\n",
              "\n",
              "    [theme=dark] .colab-df-convert {\n",
              "      background-color: #3B4455;\n",
              "      fill: #D2E3FC;\n",
              "    }\n",
              "\n",
              "    [theme=dark] .colab-df-convert:hover {\n",
              "      background-color: #434B5C;\n",
              "      box-shadow: 0px 1px 3px 1px rgba(0, 0, 0, 0.15);\n",
              "      filter: drop-shadow(0px 1px 2px rgba(0, 0, 0, 0.3));\n",
              "      fill: #FFFFFF;\n",
              "    }\n",
              "  </style>\n",
              "\n",
              "      <script>\n",
              "        const buttonEl =\n",
              "          document.querySelector('#df-695f0634-fb2b-49e2-ab58-de83588923de button.colab-df-convert');\n",
              "        buttonEl.style.display =\n",
              "          google.colab.kernel.accessAllowed ? 'block' : 'none';\n",
              "\n",
              "        async function convertToInteractive(key) {\n",
              "          const element = document.querySelector('#df-695f0634-fb2b-49e2-ab58-de83588923de');\n",
              "          const dataTable =\n",
              "            await google.colab.kernel.invokeFunction('convertToInteractive',\n",
              "                                                     [key], {});\n",
              "          if (!dataTable) return;\n",
              "\n",
              "          const docLinkHtml = 'Like what you see? Visit the ' +\n",
              "            '<a target=\"_blank\" href=https://colab.research.google.com/notebooks/data_table.ipynb>data table notebook</a>'\n",
              "            + ' to learn more about interactive tables.';\n",
              "          element.innerHTML = '';\n",
              "          dataTable['output_type'] = 'display_data';\n",
              "          await google.colab.output.renderOutput(dataTable, element);\n",
              "          const docLink = document.createElement('div');\n",
              "          docLink.innerHTML = docLinkHtml;\n",
              "          element.appendChild(docLink);\n",
              "        }\n",
              "      </script>\n",
              "    </div>\n",
              "  </div>\n",
              "  "
            ]
          },
          "metadata": {},
          "execution_count": 38
        }
      ]
    },
    {
      "cell_type": "code",
      "source": [
        "# Knee gives 4 takes too long to run and too much ram\n",
        "knee = knee_loc(tf_idf_ftx)"
      ],
      "metadata": {
        "colab": {
          "base_uri": "https://localhost:8080/",
          "height": 330
        },
        "id": "lJC2SOyhKhID",
        "outputId": "8fe327c7-17b8-43a9-ac0b-61ec2b2a0ea9"
      },
      "execution_count": null,
      "outputs": [
        {
          "output_type": "stream",
          "name": "stderr",
          "text": [
            "100%|██████████| 19/19 [08:37<00:00, 27.26s/it]\n"
          ]
        },
        {
          "output_type": "display_data",
          "data": {
            "text/plain": [
              "<Figure size 432x288 with 1 Axes>"
            ],
            "image/png": "[encoded data removed]"
          },
          "metadata": {
            "needs_background": "light"
          }
        },
        {
          "output_type": "stream",
          "name": "stdout",
          "text": [
            "knee = 7\n"
          ]
        }
      ]
    },
    {
      "cell_type": "code",
      "source": [
        "model_knee_ftx = kmeans_topics(tf_idf_ftx, knee.knee)"
      ],
      "metadata": {
        "colab": {
          "base_uri": "https://localhost:8080/"
        },
        "id": "5khbdIp0FNgx",
        "outputId": "8b78ddbf-a9de-4000-b0ae-84bcc3a8bc39"
      },
      "execution_count": null,
      "outputs": [
        {
          "output_type": "stream",
          "name": "stderr",
          "text": [
            "100%|██████████| 7/7 [00:00<00:00, 873.84it/s]"
          ]
        },
        {
          "output_type": "stream",
          "name": "stdout",
          "text": [
            "(0, 16460),crypto,体彩,bitcoin,btc,足球,sbf,binance,money,amp,blockfi,世界杯买球,bankruptcy,ftxscam,whalechart,世界杯投注,\n",
            "(1, 1837),carefu,deserve,plot,wait,end,guy,dubtc,lost,offer,ceo,crypto,volume,price,alamedaresearch,mins,\n",
            "(2, 617),results,trends,bullish,pair,top,perp,dyor,signals,buy,usd,bito,spy,amzn,cake,gbtc,\n",
            "(3, 841),sets,date,dec,committee,unideftimes,hearing,house,read,us,report,states,fixed,services,hold,financial,\n",
            "(4, 408),pacs,situat,executives,investigate,trust,davidgiglioca,mccarthy,kevin,took,situation,true,becomes,gopleader,ceo,hearing,\n",
            "(5, 1134),amazed,arrive,fast,came,ripple,minutes,wallet,took,alamedaresearch,binance,xrpaynet,crypto,volume,price,plot,\n",
            "(6, 1524),volume,impact,price,sell,buy,skewed,mismatch,mins,past,average,btcusdt,usdtusd,usdtperp,brzperp,atomusd,\n"
          ]
        },
        {
          "output_type": "stream",
          "name": "stderr",
          "text": [
            "\n"
          ]
        }
      ]
    },
    {
      "cell_type": "code",
      "source": [
        "tweets(df_ftx, model_knee_ftx)"
      ],
      "metadata": {
        "colab": {
          "base_uri": "https://localhost:8080/"
        },
        "id": "56dr30nJKO3A",
        "outputId": "6cce631c-3b0a-426b-96fe-927fa97faebc"
      },
      "execution_count": null,
      "outputs": [
        {
          "output_type": "stream",
          "name": "stdout",
          "text": [
            "Topic 1 \n",
            " ['RT @riskigy: Cryptocurrency exchange #FTX will provide around $6 million in compensation to victims of a #phishing scam that allowed hacker…'\n",
            " '@xPositiveClimb $THE Takeover  #BinanceTHE @THEProtocolERC  #Etherum  #Gateio  #BitMart  #MEXCGlobal  #Bitget  #Bitgert  #KuCoin  #FTX  #Binance  #Huobi  #Coinbase  #Kraken  #Cryptocurency  #Bitcoin  #100x  #CMC  #Coingecko'\n",
            " 'Harry Huggins Nathan Sawyer Herman Gosse Rachel Jean #体彩 #FTX #世界杯直播 https://t.co/QduLOox68O']\n",
            "Topic 2 \n",
            " [\"RT @DU09BTC: Wait till the end. 👇  #FTX CEO has lost the plot IMO. This guy does not deserve what crypto has to offer.   I'd be very carefu…\"\n",
            " \"RT @DU09BTC: Wait till the end. 👇  #FTX CEO has lost the plot IMO. This guy does not deserve what crypto has to offer.   I'd be very carefu…\"\n",
            " \"RT @DU09BTC: Wait till the end. 👇  #FTX CEO has lost the plot IMO. This guy does not deserve what crypto has to offer.   I'd be very carefu…\"]\n",
            "Topic 3 \n",
            " ['[Scan results - #FTX - 1h]  Top 5 bullish trends on $PERP pair 1: $EGLD 2: $MEDIA 3: $RSR 4: $AGLD 5: $SAND  Top 5 bullish trends on $USD pair 1: $SPY 2: $ABNB 3: $DKNG 4: $GOOGL 5: $TSLA  All FTX results: https://t.co/YlMcYQ5fFn Not buy signals. #DYOR'\n",
            " '[Scan results - #FTX - 15m]  Top 5 bullish trends on $PERP pair 1: $SNX 2: $GLMR 3: $INJ 4: $YFI 5: $THETA  Top 5 bullish trends on $USD pair 1: $AMZN 2: $ABNB 3: $GBTC 4: $BITO 5: $SPY  All FTX results: https://t.co/kFG8XpNRPZ Not buy signals. #DYOR'\n",
            " '[Scan results - #FTX - 15m]  Top 5 bullish trends on $PERP pair 1: $BOBA 2: $ASD 3: $CAKE 4: $TLM 5: $AGLD  All FTX results: https://t.co/kFG8XpNRPZ Not buy signals. #DYOR']\n",
            "Topic 4 \n",
            " ['RT @UnidefTimes: REPORT: 🇺🇸 US House committee sets Dec. 13 date for #FTX hearing.  Read more👇 https://t.co/pEdEL7cxsl'\n",
            " 'RT @UnidefTimes: REPORT: 🇺🇸 US House committee sets Dec. 13 date for #FTX hearing.  Read more👇 https://t.co/pEdEL7cxsl'\n",
            " 'RT @UnidefTimes: REPORT: 🇺🇸 US House committee sets Dec. 13 date for #FTX hearing.  Read more👇 https://t.co/pEdEL7cxsl']\n",
            "Topic 5 \n",
            " ['RT @DavidGiglioCA: Kevin McCarthy took $2,105,000 through his PACs from #FTX executives.  Do you really trust him to investigate the situat…'\n",
            " 'RT @DavidGiglioCA: Kevin McCarthy took $2,105,000 through his PACs from #FTX executives.  Do you really trust him to investigate the situat…'\n",
            " 'RT @DavidGiglioCA: Kevin McCarthy took $2,105,000 through his PACs from #FTX executives.  Do you really trust him to investigate the situat…']\n",
            "Topic 6 \n",
            " ['Took just 4 minutes to arrive in my wallet. So amazed with how fast it came  #ripple #ALAMEDARESEARCH  #FTX #binance https://t.co/LPsgJ6u3LJ'\n",
            " 'Took just 4 minutes to arrive in my wallet. So amazed with how fast it came  #ripple #ALAMEDARESEARCH  #FTX #binance https://t.co/WbdY2iVgFp'\n",
            " 'Took just 4 minutes to arrive in my wallet. So amazed with how fast it came  #ripple #ALAMEDARESEARCH  #FTX #binance https://t.co/E3WWw9Kwvr']\n",
            "Topic 7 \n",
            " ['* Buy volume in $LTC/USDT on #ftx: 6x average. Price impact: 0.39%. Volume: $40,938 https://t.co/HpimdmmHcm'\n",
            " '* Buy volume in $BNB/USDT on #ftx: 8x average. Price impact: 0.08%. Volume: $168,285 https://t.co/hOi0kXWili'\n",
            " '* Buy volume in $INTER/USD on #ftx: 54x average. Price impact: -3.48%. Volume: $21,992 https://t.co/bFcDfs1IKp']\n"
          ]
        }
      ]
    },
    {
      "cell_type": "markdown",
      "source": [
        "# Daily prices of Bitcoin and Etherium"
      ],
      "metadata": {
        "id": "1a8UsyRRgztJ"
      }
    },
    {
      "cell_type": "code",
      "source": [],
      "metadata": {
        "id": "VMMdpZiYg7Ck"
      },
      "execution_count": null,
      "outputs": []
    },
    {
      "cell_type": "markdown",
      "source": [
        "# Sentiment over years/months"
      ],
      "metadata": {
        "id": "ihrWkYUigwVT"
      }
    },
    {
      "cell_type": "code",
      "source": [
        "#display the names of the columns\n",
        "df_ftx.columns\n",
        "#df_ftx_sent = df_ftx[['', 'C', 'D']].copy()"
      ],
      "metadata": {
        "id": "7V9tbOFmgZ3G",
        "colab": {
          "base_uri": "https://localhost:8080/"
        },
        "outputId": "e6267f78-58a1-4556-d656-dcf1c7edd155"
      },
      "execution_count": 21,
      "outputs": [
        {
          "output_type": "execute_result",
          "data": {
            "text/plain": [
              "Index(['author id', 'username', 'created_at', 'geo', 'id', 'lang',\n",
              "       'like_count', 'quote_count', 'reply_count', 'retweet_count', 'source',\n",
              "       'tweet', 'in_reply_to', 'users', 'followers', 'tweet count',\n",
              "       'clean_text', 'tokens', 'clean_text_lemma', 'adj'],\n",
              "      dtype='object')"
            ]
          },
          "metadata": {},
          "execution_count": 21
        }
      ]
    },
    {
      "cell_type": "code",
      "source": [
        "#create new dataframe by selecting the columns you are interested for\n",
        "df_ftx_sent = df_ftx[['clean_text_lemma', 'created_at']].copy()"
      ],
      "metadata": {
        "id": "X1ZKE50AIg7F"
      },
      "execution_count": 22,
      "outputs": []
    },
    {
      "cell_type": "code",
      "source": [
        "df_ftx_sent.head()"
      ],
      "metadata": {
        "colab": {
          "base_uri": "https://localhost:8080/",
          "height": 206
        },
        "id": "sKbyRQoLI0jm",
        "outputId": "10273480-9064-4cdb-c2a3-e964da98d340"
      },
      "execution_count": 23,
      "outputs": [
        {
          "output_type": "execute_result",
          "data": {
            "text/plain": [
              "                                    clean_text_lemma  \\\n",
              "0  vitainucoin vinu listed ftxapp blockfolio vinu...   \n",
              "1  riskigy cryptocurrency exchange ftx provide co...   \n",
              "3  elemontcapital tier exchange vinu listing next...   \n",
              "4  vitainucoin vinu listing ftxapp details come v...   \n",
              "5          finalfx huge blessed week vvl nft btc ftx   \n",
              "\n",
              "                  created_at  \n",
              "0  2022-10-30 23:58:36+00:00  \n",
              "1  2022-10-30 23:56:41+00:00  \n",
              "3  2022-10-30 23:56:05+00:00  \n",
              "4  2022-10-30 23:54:44+00:00  \n",
              "5  2022-10-30 23:54:36+00:00  "
            ],
            "text/html": [
              "\n",
              "  <div id=\"df-97368be8-55be-4c5d-a391-c8c200353436\">\n",
              "    <div class=\"colab-df-container\">\n",
              "      <div>\n",
              "<style scoped>\n",
              "    .dataframe tbody tr th:only-of-type {\n",
              "        vertical-align: middle;\n",
              "    }\n",
              "\n",
              "    .dataframe tbody tr th {\n",
              "        vertical-align: top;\n",
              "    }\n",
              "\n",
              "    .dataframe thead th {\n",
              "        text-align: right;\n",
              "    }\n",
              "</style>\n",
              "<table border=\"1\" class=\"dataframe\">\n",
              "  <thead>\n",
              "    <tr style=\"text-align: right;\">\n",
              "      <th></th>\n",
              "      <th>clean_text_lemma</th>\n",
              "      <th>created_at</th>\n",
              "    </tr>\n",
              "  </thead>\n",
              "  <tbody>\n",
              "    <tr>\n",
              "      <th>0</th>\n",
              "      <td>vitainucoin vinu listed ftxapp blockfolio vinu...</td>\n",
              "      <td>2022-10-30 23:58:36+00:00</td>\n",
              "    </tr>\n",
              "    <tr>\n",
              "      <th>1</th>\n",
              "      <td>riskigy cryptocurrency exchange ftx provide co...</td>\n",
              "      <td>2022-10-30 23:56:41+00:00</td>\n",
              "    </tr>\n",
              "    <tr>\n",
              "      <th>3</th>\n",
              "      <td>elemontcapital tier exchange vinu listing next...</td>\n",
              "      <td>2022-10-30 23:56:05+00:00</td>\n",
              "    </tr>\n",
              "    <tr>\n",
              "      <th>4</th>\n",
              "      <td>vitainucoin vinu listing ftxapp details come v...</td>\n",
              "      <td>2022-10-30 23:54:44+00:00</td>\n",
              "    </tr>\n",
              "    <tr>\n",
              "      <th>5</th>\n",
              "      <td>finalfx huge blessed week vvl nft btc ftx</td>\n",
              "      <td>2022-10-30 23:54:36+00:00</td>\n",
              "    </tr>\n",
              "  </tbody>\n",
              "</table>\n",
              "</div>\n",
              "      <button class=\"colab-df-convert\" onclick=\"convertToInteractive('df-97368be8-55be-4c5d-a391-c8c200353436')\"\n",
              "              title=\"Convert this dataframe to an interactive table.\"\n",
              "              style=\"display:none;\">\n",
              "        \n",
              "  <svg xmlns=\"http://www.w3.org/2000/svg\" height=\"24px\"viewBox=\"0 0 24 24\"\n",
              "       width=\"24px\">\n",
              "    <path d=\"M0 0h24v24H0V0z\" fill=\"none\"/>\n",
              "    <path d=\"M18.56 5.44l.94 2.06.94-2.06 2.06-.94-2.06-.94-.94-2.06-.94 2.06-2.06.94zm-11 1L8.5 8.5l.94-2.06 2.06-.94-2.06-.94L8.5 2.5l-.94 2.06-2.06.94zm10 10l.94 2.06.94-2.06 2.06-.94-2.06-.94-.94-2.06-.94 2.06-2.06.94z\"/><path d=\"M17.41 7.96l-1.37-1.37c-.4-.4-.92-.59-1.43-.59-.52 0-1.04.2-1.43.59L10.3 9.45l-7.72 7.72c-.78.78-.78 2.05 0 2.83L4 21.41c.39.39.9.59 1.41.59.51 0 1.02-.2 1.41-.59l7.78-7.78 2.81-2.81c.8-.78.8-2.07 0-2.86zM5.41 20L4 18.59l7.72-7.72 1.47 1.35L5.41 20z\"/>\n",
              "  </svg>\n",
              "      </button>\n",
              "      \n",
              "  <style>\n",
              "    .colab-df-container {\n",
              "      display:flex;\n",
              "      flex-wrap:wrap;\n",
              "      gap: 12px;\n",
              "    }\n",
              "\n",
              "    .colab-df-convert {\n",
              "      background-color: #E8F0FE;\n",
              "      border: none;\n",
              "      border-radius: 50%;\n",
              "      cursor: pointer;\n",
              "      display: none;\n",
              "      fill: #1967D2;\n",
              "      height: 32px;\n",
              "      padding: 0 0 0 0;\n",
              "      width: 32px;\n",
              "    }\n",
              "\n",
              "    .colab-df-convert:hover {\n",
              "      background-color: #E2EBFA;\n",
              "      box-shadow: 0px 1px 2px rgba(60, 64, 67, 0.3), 0px 1px 3px 1px rgba(60, 64, 67, 0.15);\n",
              "      fill: #174EA6;\n",
              "    }\n",
              "\n",
              "    [theme=dark] .colab-df-convert {\n",
              "      background-color: #3B4455;\n",
              "      fill: #D2E3FC;\n",
              "    }\n",
              "\n",
              "    [theme=dark] .colab-df-convert:hover {\n",
              "      background-color: #434B5C;\n",
              "      box-shadow: 0px 1px 3px 1px rgba(0, 0, 0, 0.15);\n",
              "      filter: drop-shadow(0px 1px 2px rgba(0, 0, 0, 0.3));\n",
              "      fill: #FFFFFF;\n",
              "    }\n",
              "  </style>\n",
              "\n",
              "      <script>\n",
              "        const buttonEl =\n",
              "          document.querySelector('#df-97368be8-55be-4c5d-a391-c8c200353436 button.colab-df-convert');\n",
              "        buttonEl.style.display =\n",
              "          google.colab.kernel.accessAllowed ? 'block' : 'none';\n",
              "\n",
              "        async function convertToInteractive(key) {\n",
              "          const element = document.querySelector('#df-97368be8-55be-4c5d-a391-c8c200353436');\n",
              "          const dataTable =\n",
              "            await google.colab.kernel.invokeFunction('convertToInteractive',\n",
              "                                                     [key], {});\n",
              "          if (!dataTable) return;\n",
              "\n",
              "          const docLinkHtml = 'Like what you see? Visit the ' +\n",
              "            '<a target=\"_blank\" href=https://colab.research.google.com/notebooks/data_table.ipynb>data table notebook</a>'\n",
              "            + ' to learn more about interactive tables.';\n",
              "          element.innerHTML = '';\n",
              "          dataTable['output_type'] = 'display_data';\n",
              "          await google.colab.output.renderOutput(dataTable, element);\n",
              "          const docLink = document.createElement('div');\n",
              "          docLink.innerHTML = docLinkHtml;\n",
              "          element.appendChild(docLink);\n",
              "        }\n",
              "      </script>\n",
              "    </div>\n",
              "  </div>\n",
              "  "
            ]
          },
          "metadata": {},
          "execution_count": 23
        }
      ]
    },
    {
      "cell_type": "code",
      "source": [
        "#Create a function to get the polarity and subjectivity\n",
        "#Polarity lies between [-1,1], -1 defines a negative sentiment and 1 defines a positive sentiment.\n",
        "#Subjectivity lies between [0,1]. Subjectivity quantifies the amount of personal opinion and factual information contained in the text. The higher subjectivity means that the text contains personal opinion rather than factual information.\n",
        "#https://towardsdatascience.com/my-absolute-go-to-for-sentiment-analysis-textblob-3ac3a11d524#:~:text=TextBlob%20is%20a%20simple%20library,classifying%20negative%20and%20positive%20words.\n",
        "def getPolarity(text):\n",
        "    return TextBlob(text).sentiment.polarity\n",
        "def getSubjectivity(text):\n",
        "    return TextBlob(text).sentiment.subjectivity\n",
        "\n",
        "\n",
        "#Create a column of sentiment polarity\n",
        "df_ftx_sent['polarity'] = df_ftx_sent['clean_text_lemma'].apply(getPolarity)\n",
        "df_ftx_sent['subjectivity'] = df_ftx_sent['clean_text_lemma'].apply(getSubjectivity)\n",
        "\n"
      ],
      "metadata": {
        "id": "ls9CG-1XKbBp"
      },
      "execution_count": 30,
      "outputs": []
    },
    {
      "cell_type": "code",
      "source": [
        "#Get the sentiment of every tweet based on the threshold of polarity we will set\n",
        "#If the polarity is less than 0 then the tweet is negative etc.\n",
        "def getSentiment(score):\n",
        "    if score < 0: \n",
        "      return 'negative'\n",
        "    elif score == 0:\n",
        "      return 'neutral'\n",
        "    else:\n",
        "      return 'positive'\n",
        "\n",
        "df_ftx_sent['sentiment'] = df_ftx_sent['polarity'].apply(getSentiment)\n",
        "df_ftx_sent"
      ],
      "metadata": {
        "colab": {
          "base_uri": "https://localhost:8080/",
          "height": 423
        },
        "id": "kGqHVQYsM3FL",
        "outputId": "a310f5f7-2d5a-476f-e5c0-e0efa8131ffa"
      },
      "execution_count": 31,
      "outputs": [
        {
          "output_type": "execute_result",
          "data": {
            "text/plain": [
              "                                        clean_text_lemma  \\\n",
              "0      vitainucoin vinu listed ftxapp blockfolio vinu...   \n",
              "1      riskigy cryptocurrency exchange ftx provide co...   \n",
              "3      elemontcapital tier exchange vinu listing next...   \n",
              "4      vitainucoin vinu listing ftxapp details come v...   \n",
              "5              finalfx huge blessed week vvl nft btc ftx   \n",
              "...                                                  ...   \n",
              "29252  took minutes arrive wallet amazed fast came ri...   \n",
              "29257  april powell steven poe burnell lewis flora ru...   \n",
              "29258  amuletprotocol icymi appeared stakingrewards i...   \n",
              "29260  christalball chainsaw article manipulation amc...   \n",
              "29261                 dave raymond nora newton ftx 世界杯下注   \n",
              "\n",
              "                      created_at  polarity  subjectivity sentiment  \n",
              "0      2022-10-30 23:58:36+00:00       0.0           0.0   neutral  \n",
              "1      2022-10-30 23:56:41+00:00       0.0           0.0   neutral  \n",
              "3      2022-10-30 23:56:05+00:00       0.0           0.0   neutral  \n",
              "4      2022-10-30 23:54:44+00:00       0.0           0.0   neutral  \n",
              "5      2022-10-30 23:54:36+00:00       0.4           0.9  positive  \n",
              "...                          ...       ...           ...       ...  \n",
              "29252  2022-12-06 15:04:37+00:00       0.2           0.6  positive  \n",
              "29257  2022-12-06 15:04:22+00:00       0.0           0.0   neutral  \n",
              "29258  2022-12-06 15:04:21+00:00       0.9           0.9  positive  \n",
              "29260  2022-12-06 15:04:16+00:00       0.0           0.0   neutral  \n",
              "29261  2022-12-06 15:04:16+00:00       0.0           0.0   neutral  \n",
              "\n",
              "[22821 rows x 5 columns]"
            ],
            "text/html": [
              "\n",
              "  <div id=\"df-5d702767-55b5-46bf-8d60-a869926412cf\">\n",
              "    <div class=\"colab-df-container\">\n",
              "      <div>\n",
              "<style scoped>\n",
              "    .dataframe tbody tr th:only-of-type {\n",
              "        vertical-align: middle;\n",
              "    }\n",
              "\n",
              "    .dataframe tbody tr th {\n",
              "        vertical-align: top;\n",
              "    }\n",
              "\n",
              "    .dataframe thead th {\n",
              "        text-align: right;\n",
              "    }\n",
              "</style>\n",
              "<table border=\"1\" class=\"dataframe\">\n",
              "  <thead>\n",
              "    <tr style=\"text-align: right;\">\n",
              "      <th></th>\n",
              "      <th>clean_text_lemma</th>\n",
              "      <th>created_at</th>\n",
              "      <th>polarity</th>\n",
              "      <th>subjectivity</th>\n",
              "      <th>sentiment</th>\n",
              "    </tr>\n",
              "  </thead>\n",
              "  <tbody>\n",
              "    <tr>\n",
              "      <th>0</th>\n",
              "      <td>vitainucoin vinu listed ftxapp blockfolio vinu...</td>\n",
              "      <td>2022-10-30 23:58:36+00:00</td>\n",
              "      <td>0.0</td>\n",
              "      <td>0.0</td>\n",
              "      <td>neutral</td>\n",
              "    </tr>\n",
              "    <tr>\n",
              "      <th>1</th>\n",
              "      <td>riskigy cryptocurrency exchange ftx provide co...</td>\n",
              "      <td>2022-10-30 23:56:41+00:00</td>\n",
              "      <td>0.0</td>\n",
              "      <td>0.0</td>\n",
              "      <td>neutral</td>\n",
              "    </tr>\n",
              "    <tr>\n",
              "      <th>3</th>\n",
              "      <td>elemontcapital tier exchange vinu listing next...</td>\n",
              "      <td>2022-10-30 23:56:05+00:00</td>\n",
              "      <td>0.0</td>\n",
              "      <td>0.0</td>\n",
              "      <td>neutral</td>\n",
              "    </tr>\n",
              "    <tr>\n",
              "      <th>4</th>\n",
              "      <td>vitainucoin vinu listing ftxapp details come v...</td>\n",
              "      <td>2022-10-30 23:54:44+00:00</td>\n",
              "      <td>0.0</td>\n",
              "      <td>0.0</td>\n",
              "      <td>neutral</td>\n",
              "    </tr>\n",
              "    <tr>\n",
              "      <th>5</th>\n",
              "      <td>finalfx huge blessed week vvl nft btc ftx</td>\n",
              "      <td>2022-10-30 23:54:36+00:00</td>\n",
              "      <td>0.4</td>\n",
              "      <td>0.9</td>\n",
              "      <td>positive</td>\n",
              "    </tr>\n",
              "    <tr>\n",
              "      <th>...</th>\n",
              "      <td>...</td>\n",
              "      <td>...</td>\n",
              "      <td>...</td>\n",
              "      <td>...</td>\n",
              "      <td>...</td>\n",
              "    </tr>\n",
              "    <tr>\n",
              "      <th>29252</th>\n",
              "      <td>took minutes arrive wallet amazed fast came ri...</td>\n",
              "      <td>2022-12-06 15:04:37+00:00</td>\n",
              "      <td>0.2</td>\n",
              "      <td>0.6</td>\n",
              "      <td>positive</td>\n",
              "    </tr>\n",
              "    <tr>\n",
              "      <th>29257</th>\n",
              "      <td>april powell steven poe burnell lewis flora ru...</td>\n",
              "      <td>2022-12-06 15:04:22+00:00</td>\n",
              "      <td>0.0</td>\n",
              "      <td>0.0</td>\n",
              "      <td>neutral</td>\n",
              "    </tr>\n",
              "    <tr>\n",
              "      <th>29258</th>\n",
              "      <td>amuletprotocol icymi appeared stakingrewards i...</td>\n",
              "      <td>2022-12-06 15:04:21+00:00</td>\n",
              "      <td>0.9</td>\n",
              "      <td>0.9</td>\n",
              "      <td>positive</td>\n",
              "    </tr>\n",
              "    <tr>\n",
              "      <th>29260</th>\n",
              "      <td>christalball chainsaw article manipulation amc...</td>\n",
              "      <td>2022-12-06 15:04:16+00:00</td>\n",
              "      <td>0.0</td>\n",
              "      <td>0.0</td>\n",
              "      <td>neutral</td>\n",
              "    </tr>\n",
              "    <tr>\n",
              "      <th>29261</th>\n",
              "      <td>dave raymond nora newton ftx 世界杯下注</td>\n",
              "      <td>2022-12-06 15:04:16+00:00</td>\n",
              "      <td>0.0</td>\n",
              "      <td>0.0</td>\n",
              "      <td>neutral</td>\n",
              "    </tr>\n",
              "  </tbody>\n",
              "</table>\n",
              "<p>22821 rows × 5 columns</p>\n",
              "</div>\n",
              "      <button class=\"colab-df-convert\" onclick=\"convertToInteractive('df-5d702767-55b5-46bf-8d60-a869926412cf')\"\n",
              "              title=\"Convert this dataframe to an interactive table.\"\n",
              "              style=\"display:none;\">\n",
              "        \n",
              "  <svg xmlns=\"http://www.w3.org/2000/svg\" height=\"24px\"viewBox=\"0 0 24 24\"\n",
              "       width=\"24px\">\n",
              "    <path d=\"M0 0h24v24H0V0z\" fill=\"none\"/>\n",
              "    <path d=\"M18.56 5.44l.94 2.06.94-2.06 2.06-.94-2.06-.94-.94-2.06-.94 2.06-2.06.94zm-11 1L8.5 8.5l.94-2.06 2.06-.94-2.06-.94L8.5 2.5l-.94 2.06-2.06.94zm10 10l.94 2.06.94-2.06 2.06-.94-2.06-.94-.94-2.06-.94 2.06-2.06.94z\"/><path d=\"M17.41 7.96l-1.37-1.37c-.4-.4-.92-.59-1.43-.59-.52 0-1.04.2-1.43.59L10.3 9.45l-7.72 7.72c-.78.78-.78 2.05 0 2.83L4 21.41c.39.39.9.59 1.41.59.51 0 1.02-.2 1.41-.59l7.78-7.78 2.81-2.81c.8-.78.8-2.07 0-2.86zM5.41 20L4 18.59l7.72-7.72 1.47 1.35L5.41 20z\"/>\n",
              "  </svg>\n",
              "      </button>\n",
              "      \n",
              "  <style>\n",
              "    .colab-df-container {\n",
              "      display:flex;\n",
              "      flex-wrap:wrap;\n",
              "      gap: 12px;\n",
              "    }\n",
              "\n",
              "    .colab-df-convert {\n",
              "      background-color: #E8F0FE;\n",
              "      border: none;\n",
              "      border-radius: 50%;\n",
              "      cursor: pointer;\n",
              "      display: none;\n",
              "      fill: #1967D2;\n",
              "      height: 32px;\n",
              "      padding: 0 0 0 0;\n",
              "      width: 32px;\n",
              "    }\n",
              "\n",
              "    .colab-df-convert:hover {\n",
              "      background-color: #E2EBFA;\n",
              "      box-shadow: 0px 1px 2px rgba(60, 64, 67, 0.3), 0px 1px 3px 1px rgba(60, 64, 67, 0.15);\n",
              "      fill: #174EA6;\n",
              "    }\n",
              "\n",
              "    [theme=dark] .colab-df-convert {\n",
              "      background-color: #3B4455;\n",
              "      fill: #D2E3FC;\n",
              "    }\n",
              "\n",
              "    [theme=dark] .colab-df-convert:hover {\n",
              "      background-color: #434B5C;\n",
              "      box-shadow: 0px 1px 3px 1px rgba(0, 0, 0, 0.15);\n",
              "      filter: drop-shadow(0px 1px 2px rgba(0, 0, 0, 0.3));\n",
              "      fill: #FFFFFF;\n",
              "    }\n",
              "  </style>\n",
              "\n",
              "      <script>\n",
              "        const buttonEl =\n",
              "          document.querySelector('#df-5d702767-55b5-46bf-8d60-a869926412cf button.colab-df-convert');\n",
              "        buttonEl.style.display =\n",
              "          google.colab.kernel.accessAllowed ? 'block' : 'none';\n",
              "\n",
              "        async function convertToInteractive(key) {\n",
              "          const element = document.querySelector('#df-5d702767-55b5-46bf-8d60-a869926412cf');\n",
              "          const dataTable =\n",
              "            await google.colab.kernel.invokeFunction('convertToInteractive',\n",
              "                                                     [key], {});\n",
              "          if (!dataTable) return;\n",
              "\n",
              "          const docLinkHtml = 'Like what you see? Visit the ' +\n",
              "            '<a target=\"_blank\" href=https://colab.research.google.com/notebooks/data_table.ipynb>data table notebook</a>'\n",
              "            + ' to learn more about interactive tables.';\n",
              "          element.innerHTML = '';\n",
              "          dataTable['output_type'] = 'display_data';\n",
              "          await google.colab.output.renderOutput(dataTable, element);\n",
              "          const docLink = document.createElement('div');\n",
              "          docLink.innerHTML = docLinkHtml;\n",
              "          element.appendChild(docLink);\n",
              "        }\n",
              "      </script>\n",
              "    </div>\n",
              "  </div>\n",
              "  "
            ]
          },
          "metadata": {},
          "execution_count": 31
        }
      ]
    },
    {
      "cell_type": "code",
      "metadata": {
        "colab": {
          "base_uri": "https://localhost:8080/"
        },
        "id": "pGhZWbr2IojJ",
        "outputId": "ff8e2435-5c39-45a7-9468-e0c0e175c6d8"
      },
      "source": [
        "Positive = df_ftx_sent[df_ftx_sent['sentiment'] =='positive']\n",
        "print(str(Positive.shape[0] / (df_ftx_sent.shape[0]) * 100) + '% of positive tweets')\n",
        "Pos = Positive.shape[0] / df_ftx_sent.shape[0] * 100"
      ],
      "execution_count": 33,
      "outputs": [
        {
          "output_type": "stream",
          "name": "stdout",
          "text": [
            "26.050567459795804% of positive tweets\n"
          ]
        }
      ]
    },
    {
      "cell_type": "code",
      "metadata": {
        "colab": {
          "base_uri": "https://localhost:8080/"
        },
        "id": "CTOwUfO-KMDM",
        "outputId": "28a3b72f-80bb-4e8d-b22e-386a182ac1e4"
      },
      "source": [
        "Negative = df_ftx_sent[df_ftx_sent['sentiment'] =='negative']\n",
        "print(str(Negative.shape[0] / (df_ftx_sent.shape[0]) * 100) + '% of negative tweets')\n",
        "Neg = Negative.shape[0] / df_ftx_sent.shape[0] * 100"
      ],
      "execution_count": 35,
      "outputs": [
        {
          "output_type": "stream",
          "name": "stdout",
          "text": [
            "15.73550677008019% of negative tweets\n"
          ]
        }
      ]
    },
    {
      "cell_type": "code",
      "metadata": {
        "colab": {
          "base_uri": "https://localhost:8080/"
        },
        "id": "I6532RZGL_J3",
        "outputId": "427bfa21-4f6b-42e2-871a-2b6725cbba03"
      },
      "source": [
        "Neutral = df_ftx_sent[df_ftx_sent['sentiment'] =='neutral']\n",
        "print(str(Neutral.shape[0] / (df_ftx_sent.shape[0]) * 100) + '% of neutral tweets')\n",
        "Neut = Neutral.shape[0] / df_ftx_sent.shape[0] * 100"
      ],
      "execution_count": 36,
      "outputs": [
        {
          "output_type": "stream",
          "name": "stdout",
          "text": [
            "58.21392577012401% of neutral tweets\n"
          ]
        }
      ]
    },
    {
      "cell_type": "code",
      "source": [
        "df_ftx_sent.to_csv('/content/drive/MyDrive/ADS/Critical Data Mining of Media Culture - Copy/Weeks/ftx_sentiment_thanos.csv',index= False)"
      ],
      "metadata": {
        "id": "pmGUL-L8Qw-3"
      },
      "execution_count": 37,
      "outputs": []
    },
    {
      "cell_type": "markdown",
      "source": [
        "# Topic Modelling over the years/months"
      ],
      "metadata": {
        "id": "Cm-VdHcRgZH8"
      }
    },
    {
      "cell_type": "code",
      "source": [],
      "metadata": {
        "id": "J3PDwv0KgabU"
      },
      "execution_count": null,
      "outputs": []
    }
  ]
}